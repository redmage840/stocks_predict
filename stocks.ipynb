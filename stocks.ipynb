{
 "cells": [
  {
   "cell_type": "code",
   "execution_count": 9,
   "metadata": {},
   "outputs": [
    {
     "name": "stdout",
     "output_type": "stream",
     "text": [
      "Index(['DATE', 'PAYEMS', 'PAYNSA', 'AHETPI', 'USCONS', 'USCONS_NSA', 'MANEMP',\n",
      "       'MANEMP_NSA', 'USTRADE', 'HOUST', 'UNRATE', 'UNRATENSA', 'EMRATIO',\n",
      "       'UEMPMEAN', 'UEMPMED', 'U2RATE', 'U1RATE', 'CPIAUCSL', 'UMCSENT',\n",
      "       'RRSFS', 'RSXFS', 'USSLIND', 'SPCS20RSA', 'SPCS2-RNSA', 'KCFSI',\n",
      "       'DGORDER', 'IPMAN'],\n",
      "      dtype='object')\n",
      "Index(['compiled from Yahoo! Finance data by Matt Borthwick', 'ED', 'DD',\n",
      "       'CVX', 'FL', 'CAT', 'IP', 'SJW', 'F', 'LLY',\n",
      "       ...\n",
      "       'EXTN', 'VYGR', 'ACG', 'MIME', 'TCRZ', 'MCX', 'EDIT', 'LMHA', 'UA',\n",
      "       'BTU'],\n",
      "      dtype='object', length=711)\n",
      "  compiled from Yahoo! Finance data by Matt Borthwick        ED       DD  \\\n",
      "0                                         1970-01-02   0.307997  0.00048   \n",
      "\n",
      "        CVX        FL       CAT        IP  SJW    F  LLY ...   EXTN  VYGR  \\\n",
      "0  0.582503  1.857836  1.475225  1.808415  0.0  0.0  0.0 ...    0.0   0.0   \n",
      "\n",
      "   ACG  MIME  TCRZ  MCX  EDIT  LMHA   UA  BTU  \n",
      "0  0.0   0.0   0.0  0.0   0.0   0.0  0.0  0.0  \n",
      "\n",
      "[1 rows x 711 columns]\n",
      "(12032, 711)\n"
     ]
    }
   ],
   "source": [
    "# Stocks!\n",
    "# Need this form:\n",
    "# List of these lists:\n",
    "# [all macro eco features and derived features, previous month all macro features] --> label:price\n",
    "\n",
    "#https://www.analyticsvidhya.com/blog/2016/02/time-series-forecasting-codes-python/\n",
    "\n",
    "'''\n",
    "#weighted moving average\n",
    "import pandas, numpy\n",
    "ewma = pandas.stats.moments.ewma\n",
    "EMOV_n = ewma( ys, com=2 )\n",
    "#Here, com is a parameter that you can read about here. Then you can combine EMOV_n to Xs, using something like:\n",
    "\n",
    "Xs = numpy.vstack((Xs,EMOV_n))\n",
    "#And then you can look at various linear models, here, and do something like:\n",
    "\n",
    "from sklearn import linear_model\n",
    "clf = linear_model.LinearRegression()\n",
    "clf.fit ( Xs, ys )\n",
    "print clf.coef_\n",
    "'''\n",
    "import pandas as pd\n",
    "import numpy as np\n",
    "\n",
    "indicators = pd.read_csv('Indicators.csv').fillna(0)\n",
    "prices = pd.read_csv('stocks-us-adjClose.csv').fillna(0)\n",
    "\n",
    "\n",
    "print(indicators.columns)\n",
    "print(prices.columns)\n",
    "print(prices.head(1))\n",
    "print(prices.shape)"
   ]
  }
 ],
 "metadata": {
  "kernelspec": {
   "display_name": "Python 3",
   "language": "python",
   "name": "python3"
  },
  "language_info": {
   "codemirror_mode": {
    "name": "ipython",
    "version": 3
   },
   "file_extension": ".py",
   "mimetype": "text/x-python",
   "name": "python",
   "nbconvert_exporter": "python",
   "pygments_lexer": "ipython3",
   "version": "3.6.4"
  }
 },
 "nbformat": 4,
 "nbformat_minor": 2
}
