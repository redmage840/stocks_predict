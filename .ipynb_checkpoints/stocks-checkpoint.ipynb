{
 "cells": [
  {
   "cell_type": "code",
   "execution_count": 1,
   "metadata": {},
   "outputs": [
    {
     "name": "stdout",
     "output_type": "stream",
     "text": [
      "Index(['DATE', 'ED', 'DD', 'CVX', 'FL', 'CAT', 'IP', 'SJW', 'F', 'LLY',\n",
      "       ...\n",
      "       'EXTN', 'VYGR', 'ACG', 'MIME', 'TCRZ', 'MCX', 'EDIT', 'LMHA', 'UA',\n",
      "       'BTU'],\n",
      "      dtype='object', length=711)\n"
     ]
    },
    {
     "data": {
      "text/plain": [
       "<matplotlib.figure.Figure at 0x10cc27518>"
      ]
     },
     "metadata": {},
     "output_type": "display_data"
    },
    {
     "name": "stdout",
     "output_type": "stream",
     "text": [
      "        DATE        ED       DD       CVX        FL       CAT        IP  SJW  \\\n",
      "0 1970-01-02  0.307997  0.00048  0.582503  1.857836  1.475225  1.808415  0.0   \n",
      "\n",
      "     F  LLY ...   EXTN  VYGR  ACG  MIME  TCRZ  MCX  EDIT  LMHA   UA  BTU  \n",
      "0  0.0  0.0 ...    0.0   0.0  0.0   0.0   0.0  0.0   0.0   0.0  0.0  0.0  \n",
      "\n",
      "[1 rows x 711 columns]\n"
     ]
    }
   ],
   "source": [
    "# Stocks!\n",
    "# Need this form: (For each month(vector of indicators), the label is the )\n",
    "# List of these lists:\n",
    "# [all macro eco features and derived features, previous month all macro features] --> label:price\n",
    "\n",
    "# Need to get stocks by average price for each month instead of day(s)\n",
    "\n",
    "# https://pandas.pydata.org/pandas-docs/stable/timeseries.html\n",
    "# https://www.analyticsvidhya.com/blog/2016/02/time-series-forecasting-codes-python/\n",
    "# https://machinelearningmastery.com/time-series-forecasting-supervised-learning/\n",
    "\n",
    "# Are stocks related to EACH OTHER or INDEPENDENT?\n",
    "\n",
    "\n",
    "'''\n",
    "#weighted moving average\n",
    "import pandas, numpy\n",
    "ewma = pandas.stats.moments.ewma\n",
    "EMOV_n = ewma( ys, com=2 )\n",
    "#Here, com is a parameter that you can read about here. Then you can combine EMOV_n to Xs, using something like:\n",
    "\n",
    "Xs = numpy.vstack((Xs,EMOV_n))\n",
    "#And then you can look at various linear models, here, and do something like:\n",
    "\n",
    "from sklearn import linear_model\n",
    "clf = linear_model.LinearRegression()\n",
    "clf.fit ( Xs, ys )\n",
    "print clf.coef_\n",
    "'''\n",
    "import pandas as pd\n",
    "import numpy as np\n",
    "import matplotlib.pyplot as plt\n",
    "\n",
    "indicators = pd.read_csv('Indicators.csv').fillna(0)\n",
    "indicators['DATE'] = pd.to_datetime(indicators['DATE'])\n",
    "\n",
    "prices = pd.read_csv('stocks-us-adjClose.csv').fillna(0)\n",
    "prices['DATE'] = pd.to_datetime(prices['DATE'])\n",
    "month_price_ts = prices.set_index('DATE')\n",
    "month_price_ts.resample('M').mean()\n",
    "\n",
    "# print(indicators.columns)\n",
    "# print(indicators.values)\n",
    "# print(indicators.shape)\n",
    "# print(indicators.dtypes)\n",
    "\n",
    "print(prices.columns)\n",
    "# print(prices.values)\n",
    "# print(prices.shape)\n",
    "# print(prices.dtypes)\n",
    "\n",
    "plt.plot(month_price_ts)\n",
    "plt.show()\n",
    "print(prices.head(1))"
   ]
  }
 ],
 "metadata": {
  "kernelspec": {
   "display_name": "Python 3",
   "language": "python",
   "name": "python3"
  },
  "language_info": {
   "codemirror_mode": {
    "name": "ipython",
    "version": 3
   },
   "file_extension": ".py",
   "mimetype": "text/x-python",
   "name": "python",
   "nbconvert_exporter": "python",
   "pygments_lexer": "ipython3",
   "version": "3.6.4"
  }
 },
 "nbformat": 4,
 "nbformat_minor": 2
}
